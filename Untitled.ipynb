{
 "cells": [
  {
   "cell_type": "code",
   "execution_count": 14,
   "id": "2245c705-7ed7-4940-9d2d-3e7b15852e06",
   "metadata": {},
   "outputs": [
    {
     "name": "stdout",
     "output_type": "stream",
     "text": [
      "\n",
      "PHASE 1: DATA LOGIN VERIFICATION\n",
      "--------------------------------------------------\n"
     ]
    },
    {
     "data": {
      "text/plain": [
       "Series([], Name: mni.z, dtype: float64)"
      ]
     },
     "execution_count": 14,
     "metadata": {},
     "output_type": "execute_result"
    }
   ],
   "source": [
    "data_dir = \"/scratch/new_courier_pilot/\" ## pilot data directory\n",
    "# data_dir = \"/scratch/EFRCourier_reports/\" ## hospital data directory\n",
    "time_window=10000 # you can chose how long do you want to visualize the data\n",
    "exp = 'EFRCourierOpenLoop'\n",
    "subject ='R1620J'\n",
    "import pandas as pd\n",
    "import numpy as np\n",
    "import matplotlib.pyplot as plt\n",
    "import seaborn as sns\n",
    "import os\n",
    "import sys\n",
    "import argparse\n",
    "import glob\n",
    "import cmlreaders as cml\n",
    "import json\n",
    "from matplotlib.ticker import FuncFormatter\n",
    "import warnings\n",
    "import re\n",
    "from scipy import signal\n",
    "from scipy.stats import zscore\n",
    "\n",
    "# Configure pandas and warnings\n",
    "pd.set_option('display.max_columns', 1000)\n",
    "warnings.filterwarnings(\"ignore\")\n",
    "warnings.simplefilter('ignore')\n",
    "\n",
    "whole_df = cml.CMLReader.get_data_index()\n",
    "# 'R1620J' # R1637T\n",
    "sub_df = whole_df.query('experiment == @exp and subject == @subject')\n",
    "sub_df_session = sub_df['session'].iloc[0]\n",
    "reader = cml.CMLReader(subject, exp, session=sub_df_session)\n",
    "channels = reader.load(\"pairs\")\n",
    "\n",
    "evs = reader.load('task_events')\n",
    "\n",
    "# =============================================================================\n",
    "# PHASE 1: DATA LOGIN VERIFICATION\n",
    "# =============================================================================\n",
    "print(\"\\nPHASE 1: DATA LOGIN VERIFICATION\")\n",
    "print(\"-\"*50)\n",
    "\n",
    "# Load data index and get subject data\n",
    "\n",
    "\n",
    "\n",
    "# Initialize reader and load events\n",
    "evs = reader.load('task_events')\n",
    "\n",
    "pulse_freq_data = []\n",
    "word_data_type = []\n",
    "for i in range(len(evs['stim_params'])):\n",
    "    freq_data = evs['stim_params'].iloc[i]['burst_freq']\n",
    "    word_data = evs['type'].iloc[i]\n",
    "    pulse_freq_data.append(freq_data)\n",
    "    word_data_type.append(word_data)\n",
    "\n",
    "# Find stimulus indices\n",
    "indices_with_8 = np.where(np.array(pulse_freq_data) == 8)[0]\n",
    "indices_with_8=indices_with_8.tolist() \n",
    "indices_with_3 = np.where(np.array(pulse_freq_data) == 3)[0]\n",
    "indices_with_3=indices_with_3.tolist() \n",
    "indices_with_no = np.where(np.array(pulse_freq_data)[:-1] == -1)[0] + 1\n",
    "indices_with_no = indices_with_no.tolist()  \n",
    "def identify_stimulated_channels(evs, indices, channels):\n",
    "    \"\"\"Identify stimulated channel pairs and related channels\"\"\"\n",
    "    labels = []\n",
    "    Stim_label=[]\n",
    "    for ind in indices:\n",
    "        stim_params = evs['stim_params'].loc[ind]\n",
    "        anode_label = stim_params['anode_label']\n",
    "        cathode_label = stim_params['cathode_label']\n",
    "        label1 = anode_label + '-' + cathode_label\n",
    "        label2 = cathode_label + '-' + anode_label\n",
    "        labels.extend([label1, label2])\n",
    "        Stim_label.extend([anode_label,cathode_label])\n",
    "    labels = list(set(labels))\n",
    "    Stim_label = list(set(Stim_label))# Remove duplicates\n",
    "\n",
    "    all_stimuli_channel_indices = []\n",
    "    all_stimuli_indices = []\n",
    "    relative_indices = []\n",
    "    for label in labels:\n",
    "        # Exact match\n",
    "        mask = channels['label'].str.contains(label, na=False)\n",
    "        stimuli_indices = channels.loc[mask].index.tolist()\n",
    "\n",
    "\n",
    "        # Flexible match - remove numbers from both search term and data\n",
    "        cleaned_label = re.sub(r'\\d+', '', label)\n",
    "        mask_channel = channels['label'].str.replace(r'\\d+', '', regex=True).str.contains(cleaned_label, na=False)\n",
    "        stimuli_channel_indices = channels.loc[mask_channel].index.tolist()\n",
    "\n",
    "        all_stimuli_indices.extend(stimuli_indices)\n",
    "        all_stimuli_channel_indices.extend(stimuli_channel_indices)\n",
    "    for label in Stim_label:\n",
    "        # Exact match\n",
    "        mask = channels['label'].str.contains(label, na=False)\n",
    "        relative_index = channels.loc[mask].index.tolist()\n",
    "        relative_indices.extend(relative_index)\n",
    "\n",
    "\n",
    "    all_stimuli_indices = list(set(all_stimuli_indices))\n",
    "    all_stimuli_channel_indices = list(set(all_stimuli_channel_indices))\n",
    "    relative_index = list(set(relative_index))\n",
    "    ALLother = list(range(1, len(channels)))\n",
    "    Index_other = [x for x in ALLother if x not in all_stimuli_channel_indices]\n",
    "    Contact_stimuli = stimuli_indices\n",
    "    Channel_stimuli = [x for x in all_stimuli_channel_indices \n",
    "              if x not in all_stimuli_indices \n",
    "              and x not in relative_indices]\n",
    "    return Index_other, Channel_stimuli, Contact_stimuli\n",
    "\n",
    "# Identify channels for both frequencies\n",
    "Index_other_8, Channel_stimuli_8, Contact_stimuli_8 = identify_stimulated_channels(evs, indices_with_8, channels)\n",
    "Index_other_3, Channel_stimuli_3, Contact_stimuli_3 = identify_stimulated_channels(evs, indices_with_3, channels)\n",
    "channels.iloc[Contact_stimuli_8]['mni.x']\n",
    "channels.iloc[Contact_stimuli_8]['mni.y']\n",
    "channels.iloc[Contact_stimuli_8]['mni.z']"
   ]
  },
  {
   "cell_type": "code",
   "execution_count": 11,
   "id": "af8d1748-5e99-4980-8791-a5b5df861b9a",
   "metadata": {},
   "outputs": [
    {
     "data": {
      "text/html": [
       "<div>\n",
       "<style scoped>\n",
       "    .dataframe tbody tr th:only-of-type {\n",
       "        vertical-align: middle;\n",
       "    }\n",
       "\n",
       "    .dataframe tbody tr th {\n",
       "        vertical-align: top;\n",
       "    }\n",
       "\n",
       "    .dataframe thead th {\n",
       "        text-align: right;\n",
       "    }\n",
       "</style>\n",
       "<table border=\"1\" class=\"dataframe\">\n",
       "  <thead>\n",
       "    <tr style=\"text-align: right;\">\n",
       "      <th></th>\n",
       "      <th>contact_1</th>\n",
       "      <th>contact_2</th>\n",
       "      <th>label</th>\n",
       "      <th>is_stim_only</th>\n",
       "      <th>type_1</th>\n",
       "      <th>type_2</th>\n",
       "      <th>avg.region</th>\n",
       "      <th>avg.x</th>\n",
       "      <th>avg.y</th>\n",
       "      <th>avg.z</th>\n",
       "      <th>avg.corrected.region</th>\n",
       "      <th>avg.corrected.x</th>\n",
       "      <th>avg.corrected.y</th>\n",
       "      <th>avg.corrected.z</th>\n",
       "      <th>hcp.region</th>\n",
       "      <th>hcp.x</th>\n",
       "      <th>hcp.y</th>\n",
       "      <th>hcp.z</th>\n",
       "      <th>ind.region</th>\n",
       "      <th>ind.x</th>\n",
       "      <th>ind.y</th>\n",
       "      <th>ind.z</th>\n",
       "      <th>ind.corrected.region</th>\n",
       "      <th>ind.corrected.x</th>\n",
       "      <th>ind.corrected.y</th>\n",
       "      <th>ind.corrected.z</th>\n",
       "      <th>mni.region</th>\n",
       "      <th>mni.x</th>\n",
       "      <th>mni.y</th>\n",
       "      <th>mni.z</th>\n",
       "      <th>stein.region</th>\n",
       "      <th>stein.x</th>\n",
       "      <th>stein.y</th>\n",
       "      <th>stein.z</th>\n",
       "      <th>vox.region</th>\n",
       "      <th>vox.x</th>\n",
       "      <th>vox.y</th>\n",
       "      <th>vox.z</th>\n",
       "    </tr>\n",
       "  </thead>\n",
       "  <tbody>\n",
       "  </tbody>\n",
       "</table>\n",
       "</div>"
      ],
      "text/plain": [
       "Empty DataFrame\n",
       "Columns: [contact_1, contact_2, label, is_stim_only, type_1, type_2, avg.region, avg.x, avg.y, avg.z, avg.corrected.region, avg.corrected.x, avg.corrected.y, avg.corrected.z, hcp.region, hcp.x, hcp.y, hcp.z, ind.region, ind.x, ind.y, ind.z, ind.corrected.region, ind.corrected.x, ind.corrected.y, ind.corrected.z, mni.region, mni.x, mni.y, mni.z, stein.region, stein.x, stein.y, stein.z, vox.region, vox.x, vox.y, vox.z]\n",
       "Index: []"
      ]
     },
     "execution_count": 11,
     "metadata": {},
     "output_type": "execute_result"
    }
   ],
   "source": [
    "channels.iloc[Contact_stimuli_8]"
   ]
  },
  {
   "cell_type": "code",
   "execution_count": 13,
   "id": "d17b852b-65ed-462e-a3f2-849bd308b4c9",
   "metadata": {},
   "outputs": [
    {
     "data": {
      "text/plain": [
       "[]"
      ]
     },
     "execution_count": 13,
     "metadata": {},
     "output_type": "execute_result"
    }
   ],
   "source": [
    "Contact_stimuli_3"
   ]
  },
  {
   "cell_type": "code",
   "execution_count": null,
   "id": "9e5b1c4d-cc81-4b93-af72-566b7290c242",
   "metadata": {},
   "outputs": [],
   "source": []
  }
 ],
 "metadata": {
  "kernelspec": {
   "display_name": "workshop",
   "language": "python",
   "name": "workshop"
  },
  "language_info": {
   "codemirror_mode": {
    "name": "ipython",
    "version": 3
   },
   "file_extension": ".py",
   "mimetype": "text/x-python",
   "name": "python",
   "nbconvert_exporter": "python",
   "pygments_lexer": "ipython3",
   "version": "3.7.6"
  }
 },
 "nbformat": 4,
 "nbformat_minor": 5
}
